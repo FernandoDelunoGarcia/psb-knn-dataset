{
 "cells": [
  {
   "cell_type": "code",
   "execution_count": 7,
   "metadata": {},
   "outputs": [],
   "source": [
    "import pandas as pd\n",
    "import plotly.io as pio\n",
    "from ipywidgets import interact\n",
    "import dataset_knn as dt"
   ]
  },
  {
   "cell_type": "code",
   "execution_count": 8,
   "metadata": {},
   "outputs": [],
   "source": [
    "df = dt.LoadDataset(\"./DB_KNN.csv\")\n",
    "df_class_name = dt.LoadDataset(\"./DB_KNN_Classes.csv\")"
   ]
  },
  {
   "cell_type": "code",
   "execution_count": 9,
   "metadata": {},
   "outputs": [],
   "source": [
    "figs_2d_tbl = dt.GetFigures2D()\n",
    "figs_3d_tbl = dt.GetFigures3D()\n",
    "plot_2d_choices_list = [fig[\"title\"] for fig in figs_2d_tbl]\n",
    "plot_3d_choices_list = [fig[\"title\"] for fig in figs_3d_tbl]"
   ]
  },
  {
   "cell_type": "code",
   "execution_count": 10,
   "metadata": {},
   "outputs": [],
   "source": [
    "def getFigure2D(fig_to_plot_2d):\n",
    "    entry = [fig for fig in figs_2d_tbl if fig[\"title\"] == fig_to_plot_2d][0]\n",
    "    fig = dt.Create2DFigure(df, df_class_name, entry[\"x\"], entry[\"y\"], entry[\"title\"])\n",
    "    pio.show(fig, renderer=\"notebook\")\n",
    "    \n",
    "def getFigure3D(fig_to_plot_3d):\n",
    "    entry = [fig for fig in figs_3d_tbl if fig[\"title\"] == fig_to_plot_3d][0]\n",
    "    fig = dt.Create3DFigure(df, df_class_name, entry[\"x\"], entry[\"y\"], entry[\"z\"], entry[\"title\"])\n",
    "    pio.show(fig, renderer=\"notebook\")"
   ]
  },
  {
   "cell_type": "code",
   "execution_count": 11,
   "metadata": {},
   "outputs": [
    {
     "data": {
      "application/vnd.jupyter.widget-view+json": {
       "model_id": "09833a8021e34e87b13ae7960f7eb00c",
       "version_major": 2,
       "version_minor": 0
      },
      "text/plain": [
       "interactive(children=(Dropdown(description='fig_to_plot_2d', options=('P x PF', 'QF x PF', 'VF x PF'), value='…"
      ]
     },
     "metadata": {},
     "output_type": "display_data"
    }
   ],
   "source": [
    "combobox = interact(getFigure2D, fig_to_plot_2d=plot_2d_choices_list)"
   ]
  },
  {
   "cell_type": "code",
   "execution_count": 12,
   "metadata": {},
   "outputs": [
    {
     "data": {
      "application/vnd.jupyter.widget-view+json": {
       "model_id": "b83114482da2480a97790fbfb8ff3b3c",
       "version_major": 2,
       "version_minor": 0
      },
      "text/plain": [
       "interactive(children=(Dropdown(description='fig_to_plot_3d', options=('P x PF x QF',), value='P x PF x QF'), O…"
      ]
     },
     "metadata": {},
     "output_type": "display_data"
    }
   ],
   "source": [
    "combobox = interact(getFigure3D, fig_to_plot_3d=plot_3d_choices_list)"
   ]
  },
  {
   "cell_type": "code",
   "execution_count": null,
   "metadata": {},
   "outputs": [],
   "source": []
  }
 ],
 "metadata": {
  "file_extension": ".py",
  "kernelspec": {
   "display_name": "Python 3.6.9 64-bit ('env': venv)",
   "language": "python",
   "name": "python36964bitenvvenv08153b9b07f143c18a1946e627a8b3be"
  },
  "language_info": {
   "codemirror_mode": {
    "name": "ipython",
    "version": 3
   },
   "file_extension": ".py",
   "mimetype": "text/x-python",
   "name": "python",
   "nbconvert_exporter": "python",
   "pygments_lexer": "ipython3",
   "version": "3.6.9"
  },
  "mimetype": "text/x-python",
  "name": "python",
  "npconvert_exporter": "python",
  "pygments_lexer": "ipython3",
  "version": 3
 },
 "nbformat": 4,
 "nbformat_minor": 2
}
